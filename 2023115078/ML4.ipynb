{
 "cells": [
  {
   "cell_type": "code",
   "execution_count": 1,
   "id": "ff3f33c0-5588-4325-a18e-c64206b80d27",
   "metadata": {},
   "outputs": [],
   "source": [
    "import numpy as np\n",
    "from sklearn.datasets import make_blobs\n",
    "import matplotlib.pyplot as plt\n",
    "from sklearn.model_selection import train_test_split\n",
    "from sklearn.preprocessing import StandardScaler"
   ]
  },
  {
   "cell_type": "code",
   "execution_count": 2,
   "id": "0a2f5a85-3c70-4b8c-b0ef-ec551eebfe66",
   "metadata": {},
   "outputs": [],
   "source": [
    "def sigmoid(x):\n",
    "    return 1+ (1+np.exp(-x))"
   ]
  },
  {
   "cell_type": "code",
   "execution_count": 3,
   "id": "f2b0fb43-d09c-4147-814d-5911599dd85a",
   "metadata": {},
   "outputs": [],
   "source": [
    "def sigmoid_deriv(x):\n",
    "    return sigmoid(x)*(1-sigmoid(x))"
   ]
  },
  {
   "cell_type": "code",
   "execution_count": 4,
   "id": "c1693440-b678-4fcb-901b-3fb2c3cf981f",
   "metadata": {},
   "outputs": [],
   "source": [
    "x=np.array([[0,0],[0,1],[1,0],[1,1]])\n",
    "y=np.array([[0],[0],[1],[1]])"
   ]
  },
  {
   "cell_type": "code",
   "execution_count": 5,
   "id": "d4a83904-c9ab-4323-a6b1-fa128dde41f2",
   "metadata": {},
   "outputs": [],
   "source": [
    "np.random.seed(1)"
   ]
  },
  {
   "cell_type": "code",
   "execution_count": 6,
   "id": "5953cf83-41aa-4f08-9bb8-7fa99b517b95",
   "metadata": {},
   "outputs": [],
   "source": [
    "input_layer_neurons=2\n",
    "hidden_layer_neurons=2\n",
    "output_neurons=1"
   ]
  },
  {
   "cell_type": "code",
   "execution_count": 7,
   "id": "3f308ceb-a4e1-4ece-9fc2-3903834e2f81",
   "metadata": {},
   "outputs": [],
   "source": [
    "lr=0.1\n",
    "epochs=10000\n"
   ]
  },
  {
   "cell_type": "code",
   "execution_count": 8,
   "id": "c64e17a5-5738-45fb-9ffe-0e933aa61cf4",
   "metadata": {},
   "outputs": [],
   "source": [
    "w1=np.random.randn(input_layer_neurons,hidden_layer_neurons)\n",
    "b1=np.zeros((1,hidden_layer_neurons))"
   ]
  },
  {
   "cell_type": "code",
   "execution_count": 10,
   "id": "6caeb4c7-6334-4afe-a752-74559196ad99",
   "metadata": {},
   "outputs": [],
   "source": [
    "w2=np.random.randn(hidden_layer_neurons,output_neurons)\n",
    "b2=np.zeros((1,output_neurons))"
   ]
  },
  {
   "cell_type": "code",
   "execution_count": 13,
   "id": "aa48a74d-0215-40ea-840e-7b3afb16261b",
   "metadata": {},
   "outputs": [
    {
     "name": "stderr",
     "output_type": "stream",
     "text": [
      "C:\\Users\\student\\AppData\\Local\\Temp\\ipykernel_9344\\1997709507.py:2: RuntimeWarning: overflow encountered in exp\n",
      "  return 1+ (1+np.exp(-x))\n",
      "C:\\Users\\student\\AppData\\Local\\Temp\\ipykernel_9344\\883698271.py:6: RuntimeWarning: invalid value encountered in multiply\n",
      "  loss=-np.mean(x*np.log(y_hat) + (1-y)*np.log(1-y_hat))\n",
      "C:\\Users\\student\\AppData\\Local\\Temp\\ipykernel_9344\\883698271.py:6: RuntimeWarning: invalid value encountered in log\n",
      "  loss=-np.mean(x*np.log(y_hat) + (1-y)*np.log(1-y_hat))\n"
     ]
    },
    {
     "name": "stdout",
     "output_type": "stream",
     "text": [
      "Epoch 0 Loss:  nan\n",
      "Epoch 1000 Loss:  nan\n",
      "Epoch 2000 Loss:  nan\n",
      "Epoch 3000 Loss:  nan\n",
      "Epoch 4000 Loss:  nan\n",
      "Epoch 5000 Loss:  nan\n",
      "Epoch 6000 Loss:  nan\n",
      "Epoch 7000 Loss:  nan\n",
      "Epoch 8000 Loss:  nan\n",
      "Epoch 9000 Loss:  nan\n",
      "Final Outputs:\n",
      "[[nan]\n",
      " [nan]\n",
      " [nan]\n",
      " [nan]]\n"
     ]
    }
   ],
   "source": [
    "for epoch in range(epochs):\n",
    "    z1=np.dot(x,w1)+b1\n",
    "    a1=sigmoid(z1)\n",
    "    z2=np.dot(a1,w2)+b2\n",
    "    y_hat=sigmoid(z2)\n",
    "    loss=-np.mean(x*np.log(y_hat) + (1-y)*np.log(1-y_hat))\n",
    "    dz2=y_hat-y\n",
    "    dw2=np.dot(a1.T,dz2)\n",
    "    db2=np.sum(dz2,axis=0,keepdims=True)\n",
    "    dz1=np.dot(dz2,w2.T)*sigmoid_deriv(z1)\n",
    "    dw1=np.dot(x.T,dz1)\n",
    "    db1=np.sum(dz1,axis=0)\n",
    "    w2-=lr*dw2\n",
    "    b2-=lr*db2\n",
    "    w1-=lr*dw1\n",
    "    b1-=lr*db1\n",
    "    if epoch%1000==0:\n",
    "        print(f\"Epoch {epoch} Loss: {loss:4f}\")\n",
    "print(\"Final Outputs:\")\n",
    "print(np.round(y_hat))"
   ]
  },
  {
   "cell_type": "code",
   "execution_count": 16,
   "id": "b7ca8f9f-1607-4e8b-a7e6-a187ccd7b114",
   "metadata": {},
   "outputs": [
    {
     "name": "stdout",
     "output_type": "stream",
     "text": [
      "[0.9897704]\n"
     ]
    }
   ],
   "source": [
    "from joblib.numpy_pickle_utils import xrange\n",
    "from numpy import *\n",
    "class Neuralnet(object):\n",
    "    def __init__(self):\n",
    "        random.seed(1)\n",
    "        self.synaptic_weights=2*random.random((3,1))-1\n",
    "\n",
    "    def __sigmoid(self,x):\n",
    "        return 1/(1+exp(-x))\n",
    "    def __sigmoid_derivative(self,x):\n",
    "        return x*(1-x)\n",
    "\n",
    "\n",
    "\n",
    "    def train(self,inputs,outputs,training_iterations):\n",
    "        for iteration in xrange(training_iterations):\n",
    "            output=self.learn(inputs)\n",
    "            error=outputs-output\n",
    "            factor=dot(inputs.T, error * self.__sigmoid_derivative(output))\n",
    "            self.synaptic_weights+=factor\n",
    "\n",
    "    def learn(self,inputs):\n",
    "        return self.__sigmoid(dot(inputs,self.synaptic_weights))\n",
    "\n",
    "\n",
    "if __name__==\"__main__\":\n",
    "\n",
    "    neural_network=Neuralnet()\n",
    "\n",
    "\n",
    "    inputs=array([[0,1,1],[1,0,0],[1,0,1]])\n",
    "    outputs=array([[1,0,1]]).T\n",
    "\n",
    "    neural_network.train(inputs,outputs,10000)\n",
    "    print(neural_network.learn(array([1,0,1])))"
   ]
  },
  {
   "cell_type": "code",
   "execution_count": null,
   "id": "2530085e-bf39-4e1d-b442-4e2ea14724bd",
   "metadata": {},
   "outputs": [],
   "source": []
  }
 ],
 "metadata": {
  "kernelspec": {
   "display_name": "Python 3 (ipykernel)",
   "language": "python",
   "name": "python3"
  },
  "language_info": {
   "codemirror_mode": {
    "name": "ipython",
    "version": 3
   },
   "file_extension": ".py",
   "mimetype": "text/x-python",
   "name": "python",
   "nbconvert_exporter": "python",
   "pygments_lexer": "ipython3",
   "version": "3.12.7"
  }
 },
 "nbformat": 4,
 "nbformat_minor": 5
}
