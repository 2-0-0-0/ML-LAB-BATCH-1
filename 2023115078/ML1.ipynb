{
 "cells": [
  {
   "cell_type": "code",
   "execution_count": 1,
   "id": "eee542d4-2e94-455b-932d-4bdc82d4f90b",
   "metadata": {},
   "outputs": [],
   "source": [
    "import pandas as pd"
   ]
  },
  {
   "cell_type": "code",
   "execution_count": 2,
   "id": "57d9bc1a-5a99-4344-b06d-da20653039f3",
   "metadata": {},
   "outputs": [],
   "source": [
    "a=[1,6,23,11]"
   ]
  },
  {
   "cell_type": "code",
   "execution_count": 3,
   "id": "39ae7d4b-0ef4-4a0d-9253-3f4228e2b1bf",
   "metadata": {},
   "outputs": [],
   "source": [
    "myvar=pd.Series(a)"
   ]
  },
  {
   "cell_type": "code",
   "execution_count": 4,
   "id": "c6e8d63b-d65b-4530-b91c-73091d8d44db",
   "metadata": {},
   "outputs": [
    {
     "name": "stdout",
     "output_type": "stream",
     "text": [
      "0     1\n",
      "1     6\n",
      "2    23\n",
      "3    11\n",
      "dtype: int64\n"
     ]
    }
   ],
   "source": [
    "print(myvar)"
   ]
  },
  {
   "cell_type": "code",
   "execution_count": 5,
   "id": "23679cb2-d0ff-43ea-aec1-f35715f5c678",
   "metadata": {},
   "outputs": [],
   "source": [
    "myvar=pd.Series(a,index=[\"a\",\"b\",\"c\",\"d\"])"
   ]
  },
  {
   "cell_type": "code",
   "execution_count": 6,
   "id": "23788dee-3f0c-40be-9bc0-728889e0f8f0",
   "metadata": {},
   "outputs": [
    {
     "name": "stdout",
     "output_type": "stream",
     "text": [
      "a     1\n",
      "b     6\n",
      "c    23\n",
      "d    11\n",
      "dtype: int64\n"
     ]
    }
   ],
   "source": [
    "print(myvar)"
   ]
  },
  {
   "cell_type": "code",
   "execution_count": 7,
   "id": "79d90b1a-22a7-4833-9167-6d1c19a6710f",
   "metadata": {},
   "outputs": [
    {
     "name": "stdout",
     "output_type": "stream",
     "text": [
      "1\n"
     ]
    }
   ],
   "source": [
    "print(myvar[\"a\"])"
   ]
  },
  {
   "cell_type": "code",
   "execution_count": 8,
   "id": "d036593f-f99c-4e97-a6f2-c2966e2ed95e",
   "metadata": {},
   "outputs": [],
   "source": [
    "data={\n",
    "    \"calories\": [100,210,400],\n",
    "    \"age\": [10,13,18]}\n",
    "mydata=pd.DataFrame(data)"
   ]
  },
  {
   "cell_type": "code",
   "execution_count": 9,
   "id": "c37ff54e-4631-41e5-8e9b-ccce6b5c9a39",
   "metadata": {},
   "outputs": [
    {
     "name": "stdout",
     "output_type": "stream",
     "text": [
      "   calories  age\n",
      "0       100   10\n",
      "1       210   13\n",
      "2       400   18\n"
     ]
    }
   ],
   "source": [
    "print(mydata)"
   ]
  },
  {
   "cell_type": "code",
   "execution_count": 10,
   "id": "dd4f1253-d569-44b8-a476-a7fcd2d5b28b",
   "metadata": {},
   "outputs": [],
   "source": [
    "import math"
   ]
  },
  {
   "cell_type": "code",
   "execution_count": 11,
   "id": "f3085ef7-d2ce-4dbd-a645-aa5b6e98c2da",
   "metadata": {},
   "outputs": [
    {
     "name": "stdout",
     "output_type": "stream",
     "text": [
      "3\n"
     ]
    }
   ],
   "source": [
    "print(math.floor(3.6))"
   ]
  },
  {
   "cell_type": "code",
   "execution_count": 12,
   "id": "da71e123-51f3-41c0-ade5-5dcccd83a799",
   "metadata": {},
   "outputs": [
    {
     "name": "stdout",
     "output_type": "stream",
     "text": [
      "2.0\n"
     ]
    }
   ],
   "source": [
    "print(math.sqrt(4.0))"
   ]
  },
  {
   "cell_type": "code",
   "execution_count": 13,
   "id": "22ec362a-4ea0-4412-8ca2-7fb8bcb10d56",
   "metadata": {},
   "outputs": [
    {
     "name": "stdout",
     "output_type": "stream",
     "text": [
      "3\n"
     ]
    }
   ],
   "source": [
    "print(math.gcd(3,6))"
   ]
  },
  {
   "cell_type": "code",
   "execution_count": 14,
   "id": "f32372c6-342f-4d2e-a324-6ee30e6ef6b6",
   "metadata": {},
   "outputs": [
    {
     "name": "stdout",
     "output_type": "stream",
     "text": [
      "[ 2  4  8 12]\n"
     ]
    }
   ],
   "source": [
    "import numpy as np\n",
    "print(np.sort([8,2,12,4]))"
   ]
  },
  {
   "cell_type": "code",
   "execution_count": 15,
   "id": "ad30de0d-d870-4de5-9111-5a02b82467f1",
   "metadata": {},
   "outputs": [
    {
     "name": "stdout",
     "output_type": "stream",
     "text": [
      "[[ 1  4  6]\n",
      " [ 2 41  8]]\n"
     ]
    }
   ],
   "source": [
    "arr=np.array([[1,4,6],[2,41,8]])\n",
    "print(arr)"
   ]
  },
  {
   "cell_type": "code",
   "execution_count": 16,
   "id": "3497e793-0388-4ecf-80a0-942943250aa5",
   "metadata": {},
   "outputs": [
    {
     "name": "stdout",
     "output_type": "stream",
     "text": [
      "[[ 1  4]\n",
      " [ 6  2]\n",
      " [41  8]]\n"
     ]
    }
   ],
   "source": [
    "arr=arr.reshape(3,2)\n",
    "print(arr)"
   ]
  },
  {
   "cell_type": "code",
   "execution_count": 17,
   "id": "ca9bac5a-f6b0-4728-b8ef-e196ec3b70c9",
   "metadata": {},
   "outputs": [
    {
     "name": "stdout",
     "output_type": "stream",
     "text": [
      "[[ 1  4]\n",
      " [ 2  6]\n",
      " [ 8 41]]\n"
     ]
    }
   ],
   "source": [
    "arr=np.sort(arr)\n",
    "print(arr)"
   ]
  },
  {
   "cell_type": "code",
   "execution_count": 18,
   "id": "ea34c6ea-1ea1-4045-9309-72c3c74b48de",
   "metadata": {},
   "outputs": [
    {
     "name": "stdout",
     "output_type": "stream",
     "text": [
      "(3, 2)\n"
     ]
    }
   ],
   "source": [
    "print(arr.shape)"
   ]
  },
  {
   "cell_type": "code",
   "execution_count": 19,
   "id": "346ccef5-6852-49f1-a5ba-740359d7d757",
   "metadata": {},
   "outputs": [
    {
     "name": "stdout",
     "output_type": "stream",
     "text": [
      "62\n"
     ]
    }
   ],
   "source": [
    "print(np.sum(arr))"
   ]
  },
  {
   "cell_type": "code",
   "execution_count": 20,
   "id": "fd52dce4-345c-4cbb-af45-e5fe2712dbe5",
   "metadata": {},
   "outputs": [
    {
     "name": "stdout",
     "output_type": "stream",
     "text": [
      "2\n"
     ]
    }
   ],
   "source": [
    "print(math.isqrt(4))"
   ]
  },
  {
   "cell_type": "code",
   "execution_count": 21,
   "id": "891ced42-2ba3-4a2a-b622-ea071c008394",
   "metadata": {},
   "outputs": [
    {
     "name": "stdout",
     "output_type": "stream",
     "text": [
      "[-0.27491722  7.27491722]\n"
     ]
    }
   ],
   "source": [
    "from numpy import linalg as LA\n",
    "array=LA.eigvals([[1,2],[4,6]])\n",
    "print(array)"
   ]
  },
  {
   "cell_type": "code",
   "execution_count": 22,
   "id": "532e0bcb-b781-4fc9-a2d4-c3f195fd355f",
   "metadata": {},
   "outputs": [
    {
     "data": {
      "text/html": [
       "<div>\n",
       "<style scoped>\n",
       "    .dataframe tbody tr th:only-of-type {\n",
       "        vertical-align: middle;\n",
       "    }\n",
       "\n",
       "    .dataframe tbody tr th {\n",
       "        vertical-align: top;\n",
       "    }\n",
       "\n",
       "    .dataframe thead th {\n",
       "        text-align: right;\n",
       "    }\n",
       "</style>\n",
       "<table border=\"1\" class=\"dataframe\">\n",
       "  <thead>\n",
       "    <tr style=\"text-align: right;\">\n",
       "      <th></th>\n",
       "      <th>price</th>\n",
       "      <th>area</th>\n",
       "      <th>bedrooms</th>\n",
       "      <th>bathrooms</th>\n",
       "      <th>stories</th>\n",
       "      <th>mainroad</th>\n",
       "      <th>guestroom</th>\n",
       "      <th>basement</th>\n",
       "      <th>hotwaterheating</th>\n",
       "      <th>airconditioning</th>\n",
       "      <th>parking</th>\n",
       "      <th>prefarea</th>\n",
       "      <th>furnishingstatus</th>\n",
       "    </tr>\n",
       "  </thead>\n",
       "  <tbody>\n",
       "    <tr>\n",
       "      <th>0</th>\n",
       "      <td>13300000</td>\n",
       "      <td>7420</td>\n",
       "      <td>4</td>\n",
       "      <td>2</td>\n",
       "      <td>3</td>\n",
       "      <td>yes</td>\n",
       "      <td>no</td>\n",
       "      <td>no</td>\n",
       "      <td>no</td>\n",
       "      <td>yes</td>\n",
       "      <td>2</td>\n",
       "      <td>yes</td>\n",
       "      <td>furnished</td>\n",
       "    </tr>\n",
       "    <tr>\n",
       "      <th>1</th>\n",
       "      <td>12250000</td>\n",
       "      <td>8960</td>\n",
       "      <td>4</td>\n",
       "      <td>4</td>\n",
       "      <td>4</td>\n",
       "      <td>yes</td>\n",
       "      <td>no</td>\n",
       "      <td>no</td>\n",
       "      <td>no</td>\n",
       "      <td>yes</td>\n",
       "      <td>3</td>\n",
       "      <td>no</td>\n",
       "      <td>furnished</td>\n",
       "    </tr>\n",
       "    <tr>\n",
       "      <th>2</th>\n",
       "      <td>12250000</td>\n",
       "      <td>9960</td>\n",
       "      <td>3</td>\n",
       "      <td>2</td>\n",
       "      <td>2</td>\n",
       "      <td>yes</td>\n",
       "      <td>no</td>\n",
       "      <td>yes</td>\n",
       "      <td>no</td>\n",
       "      <td>no</td>\n",
       "      <td>2</td>\n",
       "      <td>yes</td>\n",
       "      <td>semi-furnished</td>\n",
       "    </tr>\n",
       "    <tr>\n",
       "      <th>3</th>\n",
       "      <td>12215000</td>\n",
       "      <td>7500</td>\n",
       "      <td>4</td>\n",
       "      <td>2</td>\n",
       "      <td>2</td>\n",
       "      <td>yes</td>\n",
       "      <td>no</td>\n",
       "      <td>yes</td>\n",
       "      <td>no</td>\n",
       "      <td>yes</td>\n",
       "      <td>3</td>\n",
       "      <td>yes</td>\n",
       "      <td>furnished</td>\n",
       "    </tr>\n",
       "    <tr>\n",
       "      <th>4</th>\n",
       "      <td>11410000</td>\n",
       "      <td>7420</td>\n",
       "      <td>4</td>\n",
       "      <td>1</td>\n",
       "      <td>2</td>\n",
       "      <td>yes</td>\n",
       "      <td>yes</td>\n",
       "      <td>yes</td>\n",
       "      <td>no</td>\n",
       "      <td>yes</td>\n",
       "      <td>2</td>\n",
       "      <td>no</td>\n",
       "      <td>furnished</td>\n",
       "    </tr>\n",
       "  </tbody>\n",
       "</table>\n",
       "</div>"
      ],
      "text/plain": [
       "      price  area  bedrooms  bathrooms  stories mainroad guestroom basement  \\\n",
       "0  13300000  7420         4          2        3      yes        no       no   \n",
       "1  12250000  8960         4          4        4      yes        no       no   \n",
       "2  12250000  9960         3          2        2      yes        no      yes   \n",
       "3  12215000  7500         4          2        2      yes        no      yes   \n",
       "4  11410000  7420         4          1        2      yes       yes      yes   \n",
       "\n",
       "  hotwaterheating airconditioning  parking prefarea furnishingstatus  \n",
       "0              no             yes        2      yes        furnished  \n",
       "1              no             yes        3       no        furnished  \n",
       "2              no              no        2      yes   semi-furnished  \n",
       "3              no             yes        3      yes        furnished  \n",
       "4              no             yes        2       no        furnished  "
      ]
     },
     "execution_count": 22,
     "metadata": {},
     "output_type": "execute_result"
    }
   ],
   "source": [
    "df=pd.read_csv(r\"C:\\Users\\student\\Documents\\Machine Learning\\Housing.csv\")\n",
    "df.head()"
   ]
  },
  {
   "cell_type": "code",
   "execution_count": 23,
   "id": "730c2780-7884-4276-9e48-c2e5e4cea61e",
   "metadata": {},
   "outputs": [
    {
     "name": "stdout",
     "output_type": "stream",
     "text": [
      "0      7420\n",
      "1      8960\n",
      "2      9960\n",
      "3      7500\n",
      "4      7420\n",
      "       ... \n",
      "540    3000\n",
      "541    2400\n",
      "542    3620\n",
      "543    2910\n",
      "544    3850\n",
      "Name: area, Length: 545, dtype: int64\n"
     ]
    }
   ],
   "source": [
    "print(df[\"area\"])"
   ]
  },
  {
   "cell_type": "code",
   "execution_count": 24,
   "id": "98815fe5-8222-4785-98e0-9da1f38d1d96",
   "metadata": {},
   "outputs": [
    {
     "name": "stdout",
     "output_type": "stream",
     "text": [
      "[ 7420  8960  9960  7500  7420  7500  8580 16200  8100  5750 13200  6000\n",
      "  6550  3500  7800  6000  6600  8500  4600  6420  4320  7155  8050  4560\n",
      "  8800  6540  6000  8875  7950  5500  7475  7000  4880  5960  6840  7000\n",
      "  7482  9000  6000  6000  6550  6360  6480  6000  6000  6000  6000  6600\n",
      "  4300  7440  7440  6325  6000  5150  6000  6000 11440  9000  7680  6000\n",
      "  6000  8880  6240  6360 11175  8880 13200  7700  6000 12090  4000  6000\n",
      "  5020  6600  4040  4260  6420  6500  5700  6000  6000  4000 10500  6000\n",
      "  3760  8250  6670  3960  7410  8580  5000  6750  4800  7200  6000  4100\n",
      "  9000  6400  6600  6000  6600  5500  5500  6350  5500  4500  5450  6420\n",
      "  3240  6615  6600  8372  4300  9620  6800  8000  6900  3700  6420  7020\n",
      "  6540  7231  6254  7320  6525 15600  7160  6500  5500 11460  4800  5828\n",
      "  5200  4800  7000  6000  5400  4640  5000  6360  5800  6660 10500  4800\n",
      "  4700  5000 10500  5500  6360  6600  5136  4400  5400  3300  3650  6100\n",
      "  6900  2817  7980  3150  6210  6100  6600  6825  6710  6450  7800  4600\n",
      "  4260  6540  5500 10269  8400  5300  3800  9800  8520  6050  7085  3180\n",
      "  4500  7200  3410  7980  3000  3000 11410  6100  5720  3540  7600 10700\n",
      "  6600  4800  8150  4410  7686  2800  5948  4200  4520  4095  4120  5400\n",
      "  4770  6300  5800  3000  2970  6720  4646 12900  3420  4995  4350  4160\n",
      "  6040  6862  4815  7000  8100  3420  9166  6321 10240  6440  5170  6000\n",
      "  3630  9667  5400  4320  3745  4160  3880  5680  2870  5010  4510  4000\n",
      "  3840  3760  3640  2550  5320  5360  3520  8400  4100  4990  3510  3450\n",
      "  9860  3520  4510  5885  4000  8250  4040  6360  3162  3510  3750  3968\n",
      "  4900  2880  4880  4920  4950  3900  4500  1905  4075  3500  6450  4032\n",
      "  4400 10360  3400  6360  6360  4500  2175  4360  7770  6650  2787  5500\n",
      "  5040  5850  2610  2953  2747  4410  4000  2325  4600  3640  5800  7000\n",
      "  4079  3520  2145  4500  8250  3450  4840  4080  4046  4632  5985  6060\n",
      "  3600  3680  4040  5600  5900  4992  4340  3000  4320  3630  3460  5400\n",
      "  4500  3460  4100  6480  4500  3960  4050  7260  5500  3000  3290  3816\n",
      "  8080  2145  3780  3180  5300  3180  7152  4080  3850  2015  2176  3350\n",
      "  3150  4820  3420  3600  5830  2856  8400  8250  2520  6930  3480  3600\n",
      "  4040  6020  4050  3584  3120  5450  3630  3630  5640  3600  4280  3570\n",
      "  3180  3000  3520  5960  4130  2850  2275  3520  4500  4000  3150  4500\n",
      "  4500  3640  3850  4240  3650  4600  2135  3036  3990  7424  3480  3600\n",
      "  3640  5900  3120  7350  3512  9500  5880 12944  4900  3060  5320  2145\n",
      "  4000  3185  3850  2145  2610  1950  4040  4785  3450  3640  3500  4960\n",
      "  4120  4750  3720  3750  3100  3185  2700  2145  4040  4775  2500  3180\n",
      "  6060  3480  3792  4040  2145  5880  4500  3930  3640  4370  2684  4320\n",
      "  3120  3450  3986  3500  4095  1650  3450  6750  9000  3069  4500  5495\n",
      "  2398  3000  3850  3500  8100  4960  2160  3090  4500  3800  3090  3240\n",
      "  2835  4600  5076  3750  3630  8050  4352  3000  5850  4960  3600  3660\n",
      "  3480  2700  3150  6615  3040  3630  6000  5400  5200  3300  4350  2640\n",
      "  2650  3960  6800  4000  4000  3934  2000  3630  2800  2430  3480  4000\n",
      "  3185  4000  2910  3600  4400  3600  2880  3180  3000  4400  3000  3210\n",
      "  3240  3000  3500  4840  7700  3635  2475  2787  3264  3640  3180  1836\n",
      "  3970  3970  1950  5300  3000  2400  3000  3360  3420  1700  3649  2990\n",
      "  3000  2400  3620  2910  3850]\n"
     ]
    }
   ],
   "source": [
    "ar1=np.array(df[\"area\"])\n",
    "print(ar1)"
   ]
  },
  {
   "cell_type": "code",
   "execution_count": 25,
   "id": "9cd3f9c5-5165-4f91-a481-125c4643279e",
   "metadata": {},
   "outputs": [
    {
     "name": "stdout",
     "output_type": "stream",
     "text": [
      "(545,)\n"
     ]
    }
   ],
   "source": [
    "print(np.shape(ar1))"
   ]
  },
  {
   "cell_type": "code",
   "execution_count": 29,
   "id": "8957b7fb-276d-43b4-a1c8-f73f5f9d7d80",
   "metadata": {},
   "outputs": [
    {
     "name": "stdout",
     "output_type": "stream",
     "text": [
      "5150.54128440367\n",
      "Median: 4600.0\n"
     ]
    }
   ],
   "source": [
    "mean=df[\"area\"].mean()\n",
    "median=df[\"area\"].median()\n",
    "print(mean)\n",
    "print(\"Median:\", median)\n"
   ]
  },
  {
   "cell_type": "code",
   "execution_count": 30,
   "id": "7fc01442-be8f-4b08-a6d6-dae7526328d8",
   "metadata": {},
   "outputs": [
    {
     "name": "stdout",
     "output_type": "stream",
     "text": [
      "Variance: 4709512.057575553\n",
      "Standard Deviation: 2170.141022508803\n"
     ]
    }
   ],
   "source": [
    "var=df[\"area\"].var()\n",
    "std=df[\"area\"].std()\n",
    "print(\"Variance:\", var)\n",
    "print(\"Standard Deviation:\", std)"
   ]
  },
  {
   "cell_type": "code",
   "execution_count": 34,
   "id": "42fa84dc-c9d9-4ecc-8665-f5ad1f3f094a",
   "metadata": {},
   "outputs": [
    {
     "name": "stdout",
     "output_type": "stream",
     "text": [
      "        price   area  bedrooms  bathrooms  stories mainroad guestroom  \\\n",
      "0    13300000   7420         4          2        3      yes        no   \n",
      "1    12250000   8960         4          4        4      yes        no   \n",
      "2    12250000   9960         3          2        2      yes        no   \n",
      "3    12215000   7500         4          2        2      yes        no   \n",
      "4    11410000   7420         4          1        2      yes       yes   \n",
      "..        ...    ...       ...        ...      ...      ...       ...   \n",
      "403   3500000  12944         3          1        1      yes        no   \n",
      "452   3150000   9000         3          1        2      yes        no   \n",
      "460   3087000   8100         2          1        1      yes        no   \n",
      "473   3003000   8050         2          1        1      yes        no   \n",
      "520   2450000   7700         2          1        1      yes        no   \n",
      "\n",
      "    basement hotwaterheating airconditioning  parking prefarea  \\\n",
      "0         no              no             yes        2      yes   \n",
      "1         no              no             yes        3       no   \n",
      "2        yes              no              no        2      yes   \n",
      "3        yes              no             yes        3      yes   \n",
      "4        yes              no             yes        2       no   \n",
      "..       ...             ...             ...      ...      ...   \n",
      "403       no              no              no        0       no   \n",
      "452       no              no              no        2       no   \n",
      "460       no              no              no        1       no   \n",
      "473       no              no              no        0       no   \n",
      "520       no              no              no        0       no   \n",
      "\n",
      "    furnishingstatus  \n",
      "0          furnished  \n",
      "1          furnished  \n",
      "2     semi-furnished  \n",
      "3          furnished  \n",
      "4          furnished  \n",
      "..               ...  \n",
      "403      unfurnished  \n",
      "452   semi-furnished  \n",
      "460      unfurnished  \n",
      "473      unfurnished  \n",
      "520      unfurnished  \n",
      "\n",
      "[86 rows x 13 columns]\n"
     ]
    }
   ],
   "source": [
    "filtereddf=df[df[\"area\"]>7000]\n",
    "print(filtereddf)"
   ]
  },
  {
   "cell_type": "code",
   "execution_count": 35,
   "id": "e83c0ba3-3be7-47be-a499-5faf4a6b5c48",
   "metadata": {},
   "outputs": [
    {
     "name": "stdout",
     "output_type": "stream",
     "text": [
      "      price_x  area  bedrooms_x  bathrooms_x  stories_x mainroad_x  \\\n",
      "0    13300000  7420           4            2          3        yes   \n",
      "1    13300000  7420           4            2          3        yes   \n",
      "2    12250000  8960           4            4          4        yes   \n",
      "3    12250000  9960           3            2          2        yes   \n",
      "4    12215000  7500           4            2          2        yes   \n",
      "..        ...   ...         ...          ...        ...        ...   \n",
      "145   3087000  8100           2            1          1        yes   \n",
      "146   3003000  8050           2            1          1        yes   \n",
      "147   3003000  8050           2            1          1        yes   \n",
      "148   2450000  7700           2            1          1        yes   \n",
      "149   2450000  7700           2            1          1        yes   \n",
      "\n",
      "    guestroom_x basement_x hotwaterheating_x airconditioning_x  ...  \\\n",
      "0            no         no                no               yes  ...   \n",
      "1            no         no                no               yes  ...   \n",
      "2            no         no                no               yes  ...   \n",
      "3            no        yes                no                no  ...   \n",
      "4            no        yes                no               yes  ...   \n",
      "..          ...        ...               ...               ...  ...   \n",
      "145          no         no                no                no  ...   \n",
      "146          no         no                no                no  ...   \n",
      "147          no         no                no                no  ...   \n",
      "148          no         no                no                no  ...   \n",
      "149          no         no                no                no  ...   \n",
      "\n",
      "     bathrooms_y stories_y mainroad_y  guestroom_y  basement_y  \\\n",
      "0              2         3        yes           no          no   \n",
      "1              1         2        yes          yes         yes   \n",
      "2              4         4        yes           no          no   \n",
      "3              2         2        yes           no         yes   \n",
      "4              2         2        yes           no         yes   \n",
      "..           ...       ...        ...          ...         ...   \n",
      "145            1         1        yes           no          no   \n",
      "146            1         1        yes          yes         yes   \n",
      "147            1         1        yes           no          no   \n",
      "148            2         1        yes           no          no   \n",
      "149            1         1        yes           no          no   \n",
      "\n",
      "     hotwaterheating_y  airconditioning_y parking_y prefarea_y  \\\n",
      "0                   no                yes         2        yes   \n",
      "1                   no                yes         2         no   \n",
      "2                   no                yes         3         no   \n",
      "3                   no                 no         2        yes   \n",
      "4                   no                yes         3        yes   \n",
      "..                 ...                ...       ...        ...   \n",
      "145                 no                 no         1         no   \n",
      "146                 no                yes         1         no   \n",
      "147                 no                 no         0         no   \n",
      "148                 no                 no         2         no   \n",
      "149                 no                 no         0         no   \n",
      "\n",
      "    furnishingstatus_y  \n",
      "0            furnished  \n",
      "1            furnished  \n",
      "2            furnished  \n",
      "3       semi-furnished  \n",
      "4            furnished  \n",
      "..                 ...  \n",
      "145        unfurnished  \n",
      "146          furnished  \n",
      "147        unfurnished  \n",
      "148        unfurnished  \n",
      "149        unfurnished  \n",
      "\n",
      "[150 rows x 25 columns]\n"
     ]
    }
   ],
   "source": [
    "merged_df=pd.merge(df,filtereddf,on='area')\n",
    "print(merged_df)"
   ]
  },
  {
   "cell_type": "code",
   "execution_count": 36,
   "id": "fcfcfe83-316c-4abc-9044-11c47a6a4bd3",
   "metadata": {},
   "outputs": [],
   "source": [
    "merged_df=merged_df.dropna()"
   ]
  },
  {
   "cell_type": "code",
   "execution_count": 37,
   "id": "0b8cc441-cd9f-4cc4-98e2-1e7ccc18cc3f",
   "metadata": {},
   "outputs": [
    {
     "name": "stdout",
     "output_type": "stream",
     "text": [
      "      price_x  area  bedrooms_x  bathrooms_x  stories_x mainroad_x  \\\n",
      "0    13300000  7420           4            2          3        yes   \n",
      "1    13300000  7420           4            2          3        yes   \n",
      "2    12250000  8960           4            4          4        yes   \n",
      "3    12250000  9960           3            2          2        yes   \n",
      "4    12215000  7500           4            2          2        yes   \n",
      "..        ...   ...         ...          ...        ...        ...   \n",
      "145   3087000  8100           2            1          1        yes   \n",
      "146   3003000  8050           2            1          1        yes   \n",
      "147   3003000  8050           2            1          1        yes   \n",
      "148   2450000  7700           2            1          1        yes   \n",
      "149   2450000  7700           2            1          1        yes   \n",
      "\n",
      "    guestroom_x basement_x hotwaterheating_x airconditioning_x  ...  \\\n",
      "0            no         no                no               yes  ...   \n",
      "1            no         no                no               yes  ...   \n",
      "2            no         no                no               yes  ...   \n",
      "3            no        yes                no                no  ...   \n",
      "4            no        yes                no               yes  ...   \n",
      "..          ...        ...               ...               ...  ...   \n",
      "145          no         no                no                no  ...   \n",
      "146          no         no                no                no  ...   \n",
      "147          no         no                no                no  ...   \n",
      "148          no         no                no                no  ...   \n",
      "149          no         no                no                no  ...   \n",
      "\n",
      "     bathrooms_y stories_y mainroad_y  guestroom_y  basement_y  \\\n",
      "0              2         3        yes           no          no   \n",
      "1              1         2        yes          yes         yes   \n",
      "2              4         4        yes           no          no   \n",
      "3              2         2        yes           no         yes   \n",
      "4              2         2        yes           no         yes   \n",
      "..           ...       ...        ...          ...         ...   \n",
      "145            1         1        yes           no          no   \n",
      "146            1         1        yes          yes         yes   \n",
      "147            1         1        yes           no          no   \n",
      "148            2         1        yes           no          no   \n",
      "149            1         1        yes           no          no   \n",
      "\n",
      "     hotwaterheating_y  airconditioning_y parking_y prefarea_y  \\\n",
      "0                   no                yes         2        yes   \n",
      "1                   no                yes         2         no   \n",
      "2                   no                yes         3         no   \n",
      "3                   no                 no         2        yes   \n",
      "4                   no                yes         3        yes   \n",
      "..                 ...                ...       ...        ...   \n",
      "145                 no                 no         1         no   \n",
      "146                 no                yes         1         no   \n",
      "147                 no                 no         0         no   \n",
      "148                 no                 no         2         no   \n",
      "149                 no                 no         0         no   \n",
      "\n",
      "    furnishingstatus_y  \n",
      "0            furnished  \n",
      "1            furnished  \n",
      "2            furnished  \n",
      "3       semi-furnished  \n",
      "4            furnished  \n",
      "..                 ...  \n",
      "145        unfurnished  \n",
      "146          furnished  \n",
      "147        unfurnished  \n",
      "148        unfurnished  \n",
      "149        unfurnished  \n",
      "\n",
      "[150 rows x 25 columns]\n"
     ]
    }
   ],
   "source": [
    "print(merged_df)"
   ]
  },
  {
   "cell_type": "code",
   "execution_count": 39,
   "id": "905df15b-72bc-441e-80f3-87f11f0dc536",
   "metadata": {},
   "outputs": [
    {
     "name": "stdout",
     "output_type": "stream",
     "text": [
      "(150, 25)\n"
     ]
    }
   ],
   "source": [
    "print(merged_df.shape)"
   ]
  },
  {
   "cell_type": "code",
   "execution_count": 40,
   "id": "86ad0cbb-80d5-432a-a4d4-00f0ce18e8e3",
   "metadata": {},
   "outputs": [
    {
     "name": "stdout",
     "output_type": "stream",
     "text": [
      "0      0.396564\n",
      "1      0.502405\n",
      "2      0.571134\n",
      "3      0.402062\n",
      "4      0.396564\n",
      "         ...   \n",
      "540    0.092784\n",
      "541    0.051546\n",
      "542    0.135395\n",
      "543    0.086598\n",
      "544    0.151203\n",
      "Name: normalized, Length: 545, dtype: float64\n"
     ]
    }
   ],
   "source": [
    "df[\"normalized\"]=(df[\"area\"] -df[\"area\"].min())/(df[\"area\"].max()-df[\"area\"].min())\n",
    "print(df[\"normalized\"])"
   ]
  },
  {
   "cell_type": "code",
   "execution_count": 45,
   "id": "fa9135ce-a9e2-40ce-8a36-292bf96d967f",
   "metadata": {},
   "outputs": [],
   "source": [
    "from sklearn.preprocessing import StandardScaler\n",
    "scaler=StandardScaler()"
   ]
  },
  {
   "cell_type": "code",
   "execution_count": 48,
   "id": "27f1143b-0276-42f9-8db0-00a868b6ed83",
   "metadata": {},
   "outputs": [],
   "source": [
    "x_scaled=scaler.fit_transform(dfnumeric)"
   ]
  },
  {
   "cell_type": "code",
   "execution_count": 49,
   "id": "78c50e4e-0506-4794-bdd6-bbd4b73649ac",
   "metadata": {},
   "outputs": [],
   "source": [
    "dfnumeric=df.select_dtypes(include=['float64','int64'])"
   ]
  },
  {
   "cell_type": "code",
   "execution_count": 51,
   "id": "f4e479ec-0ad9-4b72-9ee3-c0fe0b6dff13",
   "metadata": {},
   "outputs": [],
   "source": [
    "from sklearn.decomposition import PCA\n",
    "pca2=PCA(n_components=3)\n",
    "dfpca=pca2.fit_transform(dfnumeric)\n"
   ]
  },
  {
   "cell_type": "code",
   "execution_count": 1,
   "id": "8426060a-0103-419e-946a-97c2db48e35b",
   "metadata": {},
   "outputs": [],
   "source": [
    "from collections import Counter"
   ]
  },
  {
   "cell_type": "code",
   "execution_count": null,
   "id": "a2b80f78-a913-4bc5-b37c-1c6feb1b0470",
   "metadata": {},
   "outputs": [],
   "source": [
    "def euclidean_distance(point1, point2):\n",
    "    return np.sqrt(np.sum((np.array(point1)-np.array(point2))**2))"
   ]
  }
 ],
 "metadata": {
  "kernelspec": {
   "display_name": "Python 3 (ipykernel)",
   "language": "python",
   "name": "python3"
  },
  "language_info": {
   "codemirror_mode": {
    "name": "ipython",
    "version": 3
   },
   "file_extension": ".py",
   "mimetype": "text/x-python",
   "name": "python",
   "nbconvert_exporter": "python",
   "pygments_lexer": "ipython3",
   "version": "3.12.7"
  }
 },
 "nbformat": 4,
 "nbformat_minor": 5
}
